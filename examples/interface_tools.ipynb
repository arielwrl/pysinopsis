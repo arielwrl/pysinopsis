{
 "cells": [
  {
   "cell_type": "markdown",
   "metadata": {},
   "source": [
    "# Interface tools\n",
    "\n",
    "This module provides a very limited set of interface tools for running SINOPSIS, it is limited to creating the catalog files and clearing the files from a failed run.\n",
    "\n",
    "This means that at this point the config file has to be manually coppied to the apropriate directory and edited accordingly. \n",
    "\n",
    "Below we show an example of how to import and use interface tools."
   ]
  },
  {
   "cell_type": "code",
   "execution_count": 9,
   "metadata": {},
   "outputs": [],
   "source": [
    "from pysinopsis.interface import write_cat_file, clear_sinopsis_run\n",
    "import os"
   ]
  },
  {
   "cell_type": "markdown",
   "metadata": {},
   "source": [
    "Let's use the `write_cat_file` function to create a sinopsis catalog file for the galaxy AS1063_TU_01."
   ]
  },
  {
   "cell_type": "code",
   "execution_count": null,
   "metadata": {},
   "outputs": [],
   "source": [
    "galaxy_id = 'AS1063_TU_01'\n",
    "galaxy_dir = './AS1063_TU_01/'\n",
    "galaxy_redshift = 0.3486\n",
    "\n",
    "os.makedirs(galaxy_dir)\n",
    "\n",
    "write_cat_file(galaxy_dir + galaxy_id + '.cat', galaxy_id + '_DATACUBE_FINAL_v1_ec_5x5.fits',\n",
    "               [galaxy_id + '_z_abs_mask.fits', galaxy_id + '_z_em_mask.fits'], galaxy_redshift)\n",
    "\n"
   ]
  },
  {
   "cell_type": "markdown",
   "metadata": {},
   "source": [
    "This will create the `.cat` file for running SINOPSIS, the in the data cube file `_DATACUBE_FINAL_v1_ec_5x5.fits`. The `write_cat_file` function as takes as input a list of redshift cubes, with absorption redshifts first.\n",
    "\n",
    "All these files should be in the same directory, accompanied by the `config.sin` file. \n",
    "\n",
    "At this point, one should navigate to the directory and run the `sinopsis` command. This will create the SINOPSIS output files.\n",
    "\n",
    "To clear all of the output files and start again, use the following:"
   ]
  },
  {
   "cell_type": "code",
   "execution_count": null,
   "metadata": {},
   "outputs": [],
   "source": [
    "clear_sinopsis_run(galaxy_dir)"
   ]
  }
 ],
 "metadata": {
  "kernelspec": {
   "display_name": "Python 3",
   "language": "python",
   "name": "python3"
  },
  "language_info": {
   "codemirror_mode": {
    "name": "ipython",
    "version": 3
   },
   "file_extension": ".py",
   "mimetype": "text/x-python",
   "name": "python",
   "nbconvert_exporter": "python",
   "pygments_lexer": "ipython3",
   "version": "3.11.9"
  }
 },
 "nbformat": 4,
 "nbformat_minor": 2
}
